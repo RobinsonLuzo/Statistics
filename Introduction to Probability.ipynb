{
 "cells": [
  {
   "cell_type": "markdown",
   "metadata": {},
   "source": [
    "# Statistics and Probability - Khan Academy\n",
    "\n",
    "1. Basic Probability\n",
    "2. Probability Models\n",
    "3. Compound Events and Probability Spaces"
   ]
  },
  {
   "cell_type": "markdown",
   "metadata": {},
   "source": [
    "**1) Basic Probability**\n",
    "\n",
    "Say we have a fair coin. If we flip it, what is the probability of getting \"Heads\"?\n",
    "\n",
    "In general this is expressed as:\n",
    "\n",
    "**Number of possibilities that meet my constraint/ How many equally likely possibilities**\n",
    "\n",
    "Of all the equally likely possibilities we care about the specific event of getting Heads from our coin flip.\n",
    "\n",
    "Assuming the coin can't land on its corner there are only 2 possibilities. Heads or Tails. Our condition is only 1 so the result using the formula above is 1/2.\n",
    "\n",
    "We express the likelihood of getting Heads thus as: *P(H)* = *1/2* = *50%*\n",
    "![coin-flip](https://raw.githubusercontent.com/RobinsonLuzo/Statistics/master/img/coin-flip.png)\n",
    "[source](https://cdn.kastatic.org/googleusercontent/rtkD4AAKXOokQ4xOjbQT1xoVTqf8gq095QyIlQmnUE26VzE-YirN-S0xmXpA3QP621qKmA6yZLjzxIoAH-0NLBVF)\n",
    "\n",
    "A more complicated example can be seen from a fair six sided dice. What is the probability of getting 1?\n",
    "\n",
    "*P(1)* = *1/6* - because we have 6 sides and we are looking for just one side.\n",
    "\n",
    "What about the probability of getting 1 or a 6?\n",
    "\n",
    "*P(1 or 6)* = *2/6* = *1/3* - there are 2 possibilities that meet the contraints.\n",
    "\n",
    "Note: impossible events are regarded as being 0. So in our example above, for only 1 roll we cannot get 2 results, so the probability of that would be *0/6*.\n",
    "\n",
    "See below. If we have 8 marbles, given 3 are yellow, 2 red, 2 green and 1 blue, what is the probability a random one you pick out will be yellow?\n",
    "\n",
    "![marbles](https://raw.githubusercontent.com/RobinsonLuzo/Statistics/master/img/marbles.JPG)\n",
    "[source](https://youtu.be/yUaI0JriZtY?t=160)"
   ]
  },
  {
   "cell_type": "code",
   "execution_count": 1,
   "metadata": {},
   "outputs": [
    {
     "name": "stdout",
     "output_type": "stream",
     "text": [
      "Probability of Yellow marble: 42.86%\n",
      "Probability of non-Blue marble: 78.57%\n"
     ]
    }
   ],
   "source": [
    "# Say we have a bag with 3 yellow, 2 red, 2 green and 1 blue marbles.\n",
    "# What is the probability of finding a yellow one?\n",
    "\n",
    "bag = [\"yellow\", \"green\", \"blue\", \"yellow\", \"red\", \"yellow\", \"red\"]\n",
    "\n",
    "def p(item, array):\n",
    "    return array.count(item)/len(array)\n",
    "\n",
    "print(\"Probability of Yellow marble: {:2.2%}\".format(p(\"yellow\", bag)))\n",
    "# P(Yellow) = 3/8 or 42.86% (rounded)\n",
    "\n",
    "\n",
    "# Say we have a 2nd bag with 9 red, 3 blue and 2 green marbles\n",
    "#What are the odds we randomly select a non-blue one?\n",
    "\n",
    "bag_2 = [\"red\", \"red\", \"red\", \"blue\", \"red\", \"red\", \"blue\", \"red\", \"green\", \"blue\", \"red\", \"red\", \"red\", \"green\"]\n",
    "print(\"Probability of non-Blue marble: {:2.2%}\".format(1 - p(\"blue\", bag_2)))"
   ]
  },
  {
   "cell_type": "markdown",
   "metadata": {},
   "source": [
    "**2) Probability models**\n",
    "\n",
    "Continuing our marble analogy, say we have a bag of 50 red and 50 blue marbles. What is the probability of picking red if we choose one at random?\n",
    "\n",
    "Theorectically; there are 100 marbles, 50% of which are red, so it should be *50%* or *1/2*.\n",
    "\n",
    "But if we reach into the bag and pick out a marble 10 times, is it still equally likely each time this is the probability?\n",
    "\n",
    "After 10 experiments it turns out we have picked out 7 red and 3 blue.\n",
    "\n",
    "It is entirely possible that, should you pick out 10 random marbles again, that we would get 7 red and 3 blue again. However this is unlikely. As we shall learn later, there is enough variation in where you pick from randomly that you're not always going to get exactly one half as we initially predicted. Especially with such a small sample size.\n",
    "\n",
    "![marbles-red-blue](https://raw.githubusercontent.com/RobinsonLuzo/Statistics/master/img/marbles-red-blue.jpg)\n",
    "[source](https://news.fnal.gov/2011/12/statistical-significance-are-you-sure-that-you-re-sure/)\n",
    "\n",
    "Now say that after 10,000 experiments we get a result that is even more skewed. Maybe we get 8,000 red marbles and 2,000 blue. What does this mean?\n",
    "\n",
    "Well, it is possible (presuming 1/2 is correct) that we could get such figures. But it is extremely unlikely, especially with so many results. So is our true probability of 1/2 correct given that our experimental probability is suggesting a figure closer to 4/5?\n",
    "\n",
    "Well we can draw from our evidence of 10,000 trials that is may be so. Perhaps the reason for this is that the blue marbles are bigger or heavier, and thus we're more likely to select them, despite their number being the same as the red ones.\n",
    "\n",
    "The moral of the story is that it is not always possible to assume everything is fair and what we predicted. That is why we run real world experiments to gauge and refine our estimates."
   ]
  },
  {
   "cell_type": "markdown",
   "metadata": {},
   "source": [
    "**3) Compound Events and Probability Spaces**\n",
    "\n",
    "In this scenario we shall talk about a *sample space*.\n",
    "\n",
    "Simply put; a sample space is a set of all the possible outcomes. For a coin flip this would be {Heads, Tails}. Sample spaces are most useful when you have equally likely outcomes such as the coin flip or a dice throw.\n",
    "\n",
    "Once we know of all the possible outcomes, even if they aren't equally likely, we can then build a probability distribution. We know the sample space, all the possible outcomes, so now we can think about the probability of each of those outcomes.\n",
    "\n",
    "Let's imagine a bakery where we have 3 different flavours of cupckaes; *chocolate, vanilla* and *strawberry*. But these can also come in 3 different sizes of cake: *small, medium* and *large*. This gives us 2 different ways in which the thing we are going to be sampling can vary.\n",
    "\n",
    "<img src=\"https://raw.githubusercontent.com/RobinsonLuzo/Statistics/master/img/cupcakes.jpg\" alt=\"drawing\" width=\"500\" height=\"500\"/>\n",
    "\n",
    "[BBC Good Food](https://www.bbcgoodfood.com/sites/default/files/recipe/recipe-image/2017/06/cupcakes.jpg)\n",
    "\n",
    "Now say we randomly go in and pick up a cupcake: what are the possible outcomes of our experiment?\n",
    "\n",
    "Well the outcome will be both the flavour and the possible size of the cupcake. This will result in a sample space roughly like so:\n",
    "\n",
    "Chocolate - small\n",
    "Chocolate - medium\n",
    "Chocolate - large\n",
    "Strawberry - small\n",
    "Strawberry - medium\n",
    "Strawberry - large\n",
    "Vanilla - small\n",
    "Vanilla - medium\n",
    "Vanilla - large\n",
    "\n",
    "This makes for a total of 9 possible outcomes.\n",
    "\n",
    "Note: the order of flavour/ size does not particularly matter. Below are 2 variations in a tree structure of how the possibilities could have been ordered. The topmost chooses flavour then size, while the one below chooses size then flavour.\n",
    "\n",
    "<img src=\"https://raw.githubusercontent.com/RobinsonLuzo/Statistics/master/img/cupcake-tree.JPG\" alt=\"drawing\" width=\"500\" height=\"500\"/>\n",
    "\n",
    "[Source](https://youtu.be/PR-A3UAO7_0?t=330)"
   ]
  },
  {
   "cell_type": "markdown",
   "metadata": {},
   "source": [
    "So where does this come in useful? \n",
    "\n",
    "Let's imagine a 6 sided dice: what is the probability of rolling doubles with 2 dice thrown at the same time? i.e. rolling 2 ones, 2 sixes 2 threes etc.\n",
    "\n",
    "Well let's think of all the probable outcomes/sample spaces.\n",
    "\n",
    "The first dice will result in a number between (inclusive) 1 and 6 so that's 6 outcomes: {1, 2, 3, 4, 5, 6}. The second dice, individually, has the same possibilities. But looking at the possibilities results in 36 possible outcomes, these (where the first number is the roll of the first dice - second dice roll) are:\n",
    "\n",
    "{1 - 1, 1 - 2, 1 - 3, 1 - 4, 1 - 5, 1 - 6,\n",
    "2 - 1, 2 - 2, 2 - 3, 2 - 4, 2 - 5, 2 - 6,\n",
    "3 - 1, 3 - 2, 3 - 3, 3 - 4, 3 - 5, 3 - 6,\n",
    "4 - 1, 4 - 2, 4 - 3, 4 - 4, 4 - 5, 4 - 6,\n",
    "5 - 1, 5 - 2, 5 - 3, 5 - 4, 5 - 5, 5 - 6,\n",
    "6 - 1, 6 - 2, 6 - 3, 6 - 4, 6 - 5, 6 - 6}\n",
    "\n",
    "It may be easier to think of this as a grid (below) rather than a list.\n",
    "\n",
    "<img src=\"https://raw.githubusercontent.com/RobinsonLuzo/Statistics/master/img/double-rolled-dice.JPG\" alt=\"drawing\" width=\"500\" height=\"500\"/>\n",
    "\n",
    "[Source](https://youtu.be/O4Qnsubo2tg?t=253)\n",
    "\n",
    "Our outcomes where we roll doubles can be more easily seen in the grid above. Our total probability for rolling doubles is 6 in total out of 36, 1/6 or 16.6%"
   ]
  }
 ],
 "metadata": {
  "kernelspec": {
   "display_name": "Python 3",
   "language": "python",
   "name": "python3"
  },
  "language_info": {
   "codemirror_mode": {
    "name": "ipython",
    "version": 3
   },
   "file_extension": ".py",
   "mimetype": "text/x-python",
   "name": "python",
   "nbconvert_exporter": "python",
   "pygments_lexer": "ipython3",
   "version": "3.7.6"
  }
 },
 "nbformat": 4,
 "nbformat_minor": 4
}
