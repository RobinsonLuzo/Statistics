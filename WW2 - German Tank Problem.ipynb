{
 "cells": [
  {
   "cell_type": "markdown",
   "metadata": {},
   "source": [
    "## WW2 German Tank Problem - a statistical study\n",
    "\n",
    "Inspired by Gavyn Davies' [How a statistical problem won the war](https://www.theguardian.com/world/2006/jul/20/secondworldwar.tvandradio)\n",
    "\n",
    "In some respects World War 2 was the first war in which widespread use was made of mathematical and scientific methods. Statistics and Probability played a part in estimating the production figures of the German war economy. Perhaps the best known example of this concerns Allied efforts to estimate German tank production in the run-up to D-Day. While earlier German [Panzer IV](https://en.wikipedia.org/wiki/Panzer_IV) tanks had not given too much trouble, the appearence in small numbers of [Panzer V](https://en.wikipedia.org/wiki/Panther_tank) and [Tiger](https://en.wikipedia.org/wiki/Tiger_I) tanks proved worrying to High Command. Although assured by their intelligence that these were likely quite rare tanks and would continue to be so, they turned to statisticians to provide some sort of reassurance. The method they chose involves what we call estimators (or [Minimum-Variance Unbiased Estimator](https://en.wikipedia.org/wiki/Minimum-variance_unbiased_estimator)).\n",
    "\n",
    "![WW2_Panther_tanks](https://raw.githubusercontent.com/RobinsonLuzo/Statistics/master/img/WW2-tank-production.jpg)\n",
    "\n",
    "Panther tanks under consruction. [Wikipedia](https://en.wikipedia.org/wiki/File:Bundesarchiv_Bild_101I-635-3966-27,_Panzerfabrik_in_Deutschland.jpg)\n",
    "\n",
    "The statisticians had the serial numbers from a number of captured Panzer V tanks. They assumed, \"Germans being Germans\", that the numbers would have been made sequentially. So the first tank is labelled 1, 2nd as 2 etc all the way to the total *n*. These numbers are likely to be a random distribution as, even if tanks were assigned in batches to units, they were likely captured at different times and places. Likewsie, the maximum serial number we have observed is unlikely to be the last tank produced. So we have a random sample *k* of *n* total tanks. \n",
    "\n",
    "There are 2 methods to do this: frequentist and bayesian. We shall use frequentist.\n",
    "\n",
    "The equasion below will give us an approximation of *n*. If *k* is the total number of samples we have and *m* is the maximum number observed.\n",
    "\n",
    "![frequentist-equation](https://raw.githubusercontent.com/RobinsonLuzo/Statistics/master/img/Frequentist-equation.JPG)\n",
    "\n",
    "This method still finds use today in the form of similar estimations such as Bloomberg's [Tesla Tracker](https://www.bloomberg.com/graphics/tesla-model-3-vin-tracker/)\n",
    "\n",
    "In reality, between June 1940 and September 1942 the Germans produced on average 245 tanks per month. This compared with spy estimates of 1,500 [(Source)](https://en.wikipedia.org/wiki/German_tank_problem#Specific_data). Let's see if, given a random bunch of 15 numbers from that hidden maximum, we can guess the total number. For this we shall generate a list of random integers to represent the serial numbers.\n",
    "\n",
    "Note: as the numbers generated are random you will not always get the same result on running."
   ]
  },
  {
   "cell_type": "code",
   "execution_count": 1,
   "metadata": {},
   "outputs": [
    {
     "name": "stdout",
     "output_type": "stream",
     "text": [
      "248.6\n"
     ]
    }
   ],
   "source": [
    "import random\n",
    "\n",
    "# Note: random seed means the randomly generated numbers will remain consistent between re-runs\n",
    "# to get a spread, comment this out\n",
    "random.seed(3)\n",
    "\n",
    "serial_numbers = []\n",
    "# generate a list of random integers\n",
    "for number in range(15):\n",
    "    serial_numbers.append(random.randint(0, 245))\n",
    "\n",
    "tanks_produced = max(serial_numbers) + (max(serial_numbers)/len(serial_numbers)) - 1\n",
    "print(tanks_produced)"
   ]
  }
 ],
 "metadata": {
  "kernelspec": {
   "display_name": "Python 3",
   "language": "python",
   "name": "python3"
  },
  "language_info": {
   "codemirror_mode": {
    "name": "ipython",
    "version": 3
   },
   "file_extension": ".py",
   "mimetype": "text/x-python",
   "name": "python",
   "nbconvert_exporter": "python",
   "pygments_lexer": "ipython3",
   "version": "3.7.6"
  }
 },
 "nbformat": 4,
 "nbformat_minor": 4
}
